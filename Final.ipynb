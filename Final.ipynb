{
 "cells": [
  {
   "cell_type": "code",
   "execution_count": 1,
   "id": "0f014921",
   "metadata": {
    "scrolled": true
   },
   "outputs": [
    {
     "name": "stdout",
     "output_type": "stream",
     "text": [
      "http://repositorio.lamolina.edu.pe/handle/20.500.12996/5218?show=full\n"
     ]
    }
   ],
   "source": [
    "###-Repositorio estadistica informatica pregrado UNALM-### \n",
    "\n",
    "#Trabajo Final → AVANCE.\n",
    "#1. Relación de repositorios con sus respectivos url\n",
    "#2. Automatización de la descarga de la información de un repositorio.\n",
    "#3. Estructuración de la información descargada en formato csv\n",
    "\n",
    "#repositorios\n",
    "\n",
    "#1. UNALM Pregrado #http://repositorio.lamolina.edu.pe/handle/20.500.12996/26/recent-submissions\n",
    "#2. PUCP Posgrado #https://tesis.pucp.edu.pe/repositorio/handle/20.500.12404/757\n",
    "#3. UNALM Posgrado #http://repositorio.lamolina.edu.pe/handle/20.500.12996/329\n",
    "\n",
    "url = 'http://repositorio.lamolina.edu.pe/handle/20.500.12996/26/recent-submissions'\n",
    "\n",
    "import urllib.request, urllib.error\n",
    "from bs4 import BeautifulSoup\n",
    "import re as re \n",
    "\n",
    "#url de la siguiente pagina\n",
    "def next_page(url):\n",
    "    page = urllib.request.urlopen(url)\n",
    "    soup = BeautifulSoup(page)\n",
    "    \n",
    "    line = soup.find('a',{'class':'next-page-link'})\n",
    "    line = line.decode().strip()\n",
    "    offset = re.findall(r'\\?offset=.{2}',line)\n",
    "    url_diff = offset[0]\n",
    "    \n",
    "    url = re.sub('\\?offset.*','',url)\n",
    "    n_url = url + url_diff\n",
    "    return n_url\n",
    "\n",
    "#url de todas las paginas \n",
    "URL = []\n",
    "url1 = url\n",
    "\n",
    "def all_pages(url,URL):\n",
    "    \n",
    "    page = urllib.request.urlopen(url)\n",
    "    soup = BeautifulSoup(page)\n",
    "    last = soup.find('li',{'class':'next pull-right disabled'})\n",
    "    URL.append(url)\n",
    "    if last == None: \n",
    "        url = next_page(url)\n",
    "        all_pages(url,URL)\n",
    "    else: \n",
    "        return URL \n",
    "    return URL \n",
    "all_pages(url1,URL)\n",
    "\n",
    "###Almacenar links de las tesis \n",
    "\n",
    "#tittles =[]\n",
    "handles = [] \n",
    "\n",
    "for urls in URL: \n",
    "    page = urllib.request.urlopen(urls)\n",
    "    soup = BeautifulSoup(page)\n",
    "    for lines in soup.find_all('h4'):\n",
    "        lines = lines.decode().strip()\n",
    "        link = re.findall(r'(?<=20.500.12996/).+?(?=\\\")',lines) #handle unico a cada tesis \n",
    "        handles.append(link)\n",
    "        #tittle = re.findall(r'(?<=>)\\w.+?(?=<)',lines) #Titulo de la tesis \n",
    "        #tittles.append(tittle)\n",
    "\n",
    "## Links completos \n",
    "\n",
    "links=[]\n",
    "def get_links(handles,links):\n",
    "    handle_url = re.sub('(?<=20.500.12996/).+','',url)\n",
    "    for i in range(len(handles)): \n",
    "        links.append(handle_url+handles[i][0])\n",
    "    return links\n",
    "\n",
    "get_links(handles,links)    \n",
    "\n",
    "links_full = [] \n",
    "for link in links: \n",
    "    links_full.append(link+'?show=full')\n",
    "\n",
    "print(links_full[4])\n",
    "\n",
    "##test \n",
    "#page1 = urllib.request.urlopen(links_full[0])\n",
    "#soup1 = BeautifulSoup(page1)\n",
    "#full_t=''\n",
    "\n",
    "#for line in soup1.find_all('tr'):\n",
    "#    full_t = line.decode().strip()+'\\n'+full_t\n",
    "\n",
    "#grantor = re.findall(r'(?<=>thesis\\.degree\\.grantor</td><td class=\\\"word-break\\\">).+?(?=</td>)',full_t)\n",
    "#print(grantor)\n",
    "\n",
    "\n"
   ]
  },
  {
   "cell_type": "code",
   "execution_count": 6,
   "id": "cf710827",
   "metadata": {},
   "outputs": [
    {
     "name": "stdout",
     "output_type": "stream",
     "text": [
      "owo\n"
     ]
    }
   ],
   "source": [
    "##\n",
    "\n",
    "rep_unalm = { \n",
    "        'unis' : [],\n",
    "        'titulos' : [],\n",
    "        'nombres' : [],\n",
    "        'grados' : [], \n",
    "        'asesores' : [],\n",
    "        'resumenes': [],\n",
    "        'años' : [] }\n",
    "        \n",
    "\n",
    "def get_all(links_full,reps_unalm):\n",
    "    for i in range(len(links_full)): \n",
    "        page = urllib.request.urlopen(links_full[i])\n",
    "        soup = BeautifulSoup(page)\n",
    "        full_t=''\n",
    "        for line in soup.find_all('tr'):\n",
    "            full_t = line.decode().strip()+'\\n'+full_t\n",
    "            \n",
    "        uni = re.findall(r'(?<=>thesis\\.degree\\.grantor</td><td class=\\\"word-break\\\">).+?(?=</td>)',full_t)\n",
    "        titulo = re.findall(r'(?<=>dc\\.title</td><td class=\\\"word-break\\\">).+?(?=</td>)',full_t)\n",
    "        nombre = re.findall(r'(?<=>dc\\.contributor\\.author</td><td class=\\\"word-break\\\">).+?(?=</td>)',full_t)\n",
    "        grado = re.findall(r'(?<=>thesis\\.degree\\.name</td><td class=\\\"word-break\\\">).+?(?=</td>)',full_t)\n",
    "        asesor = re.findall(r'(?<=>dc\\.contributor\\.advisor</td><td class=\\\"word-break\\\">).+?(?=</td>)',full_t)\n",
    "        resumen = re.findall(r'(?<=>dc\\.description\\.abstract</td><td class=\\\"word-break\\\">).+?(?=</td>)',full_t)\n",
    "        año = re.findall(r'(?<=>dc\\.date\\.issued</td><td class=\\\"word-break\\\">).+?(?=</td>)',full_t)\n",
    "        \n",
    "        rep_unalm['unis'].append(uni[0])\n",
    "        rep_unalm['titulos'].append(titulo[0])     \n",
    "        rep_unalm['nombres'].append(nombre[0])\n",
    "        rep_unalm['grados'].append(grado[0]) \n",
    "        \n",
    "        if asesor == []: \n",
    "            rep_unalm['asesores'].append('N/A')\n",
    "        else:\n",
    "            rep_unalm['asesores'].append(asesor[0])\n",
    "            \n",
    "        rep_unalm['resumenes'].append(resumen[0])\n",
    "        rep_unalm['años'].append(año[0])\n",
    "    return reps_unalm\n",
    "\n",
    "universities = get_all(links_full,rep_unalm)\n",
    "\n",
    "print('owo')"
   ]
  },
  {
   "cell_type": "code",
   "execution_count": 8,
   "id": "61874b68",
   "metadata": {},
   "outputs": [
    {
     "name": "stdout",
     "output_type": "stream",
     "text": [
      "['Predicción del siniestro de vehículos particulares en una compañía de seguros', 'Identificación de clientes en campañas para una entidad financiera usando el método Stacking', 'Implementación de una solución de business intelligence para la toma de decisiones en el servicio de consulta externa de un hospital', 'Identificación de clientes que realizaron fuga de equipos móviles en una empresa de telecomunicaciones utilizando el algoritmo Random Forest', 'Estimación del monto de siniestros ocurridos y no reportados para el SOAT con el método Double Cchain Ladder', 'Registro de los planes operativos y estratégicos usando el aplicativo CEPLAN V 1.0', 'Diseño e implementación de un Datamart para el área de análisis de una instancia técnica del sector educativo', 'Predicción del riesgo de incumplimiento en el pago de los créditos del portafolio de una entidad financiera utilizando regresión logística', 'Propuesta de estrategia de monitoreo transaccional anti lavado de activos empleando el método de Ward y el teorema de Chebyshev', 'Diseño e implementación de un sistema de información web en una empresa de medios de comunicación de Perú', 'Aplicación del análisis Pathway para incrementar la predisposición de compra de productos de belleza', 'Análisis y pronóstico de la recaudación del impuesto vehicular municipal mediante la metodología Box - Jenkins', 'Modelo de factores asociado al desarrollo infantil temprano de niños peruano con indicadores  del Instituto Nacional de Estadística e Informática', 'Identificación de perfiles de los Centros de Educación Técnico - Productiva Públicos usando indicadores de condiciones básicas de calidad mediante clúster bietápico', 'Segmentación de usuarios que visitan el sitio web de una empresa utilizando la regresión logística con la técnica de sobremuestreo', 'Diseño muestral para determinar la demanda nacional de hoja de coca destinada al uso lícito', 'Predicción de la prima de los clientes de una compañía aseguradora usando el modelo lineal generalizado Tweedie', 'Validación para la determinación de minerales: calcio, hierro, magnesio, manganeso y zinc, en galletas con el método AOAC 985.35', 'Evaluación del impacto de la fortificación de la harina de trigo en el nivel de anemia utilizando la técnica PSM', 'Modelo de ecuaciones estructurales en innovación de empresas de manufactura peruanas con información del Instituto Nacional de Estadística e Informática', 'Imputación de datos faltantes en los ingresos por hogar en la Enaho utilizando el método del K-vecino más cercano', 'Diseño y análisis de un sistema de información para el registro nacional de personas certificadas del SINEACE', 'Estimación del capital económico por riesgo operacional financiero usando el método de distribución de pérdidas con convolución Poisson y Log-normal', 'Segmentación de lectores digitales registrados de un sitio web informativo con el algoritmo de análisis Cluster k-means', 'Clasificación de los adolescentes infractores del centro juvenil de diagnóstico y rehabilitación de lima utilizando partición alrededor de medoides (PAM)', 'Identificación de la propensión a la adquisición de un subproducto de una tarjeta de crédito en una entidad bancaria', 'Predicción de adquisición de un préstamo personal bancario a través del canal de televentas utilizando el algoritmo Random Forest', 'Diseño muestral de una línea base para caracterizar a los productores de cacao en el Perú', 'Identificación de las variables determinantes en el cese voluntario de un colaborador con la regresión de Cox', 'Comportamiento del gasto público de una entidad pública usando el modelo Box - Jenkins, 2009 - 2017', 'Caracterización del perfil del ingresante de una Universidad Pública aplicando algoritmos clustering K-Prototypes y K- Medoids', 'Cambios en la producción agrícola y el rol de la investigación y extensión agrícola en el Perú: 1950-2011', 'Variables que explican los rangos remunerativos del primer empleo de los egresados universitarios del Perú aplicando regresión logística ordinal', 'Identificación de las reglas de asociación utilizando los algoritmos secuenciales Spade y GSP', 'Estudio de las principales variables que determinan el consumo de una marca de bebida gaseosa usando técnicas discriminantes', 'Clasificación de resultados en la prueba de admisión de la UNALM utilizando análisis discriminante lineal de Fisher y Máquina de Soporte Vectorial', 'Descripción metodológica del modelo espacial autorregresivo en el error', 'Descripción metodológica del anàlisis Clúster utilizando el algoritmo de Ward', 'Descripción del procedimiento metodológico del análisis cluster no jerárquico con el algoritmo Clarans', 'Descripción metodológica del análisis conjunto con perfiles completos', 'Clasificación de fuga de clientes en una entidad financiera utilizando el algoritmo Smote para datos desbalanceados en una regresión logística', 'Segmentación de clientes de un casino utilizando el algoritmo partición alrededor de medoides (PAM) con datos mixtos', 'Detección de outliers espaciales utilizando el diagrama de dispersión de Moran y el variograma Nube', 'Descripción metodológica de las series de tiempo con redes neuronales artificiales', 'Descripción metodológica del modelo de ecuaciones estructurales con el método de estimación de mínimos cuadrados parciales', 'Mixtura finita basada en la distribución Birnbaum-Saunders normal asimétrica', 'Estrategias de mercado en un centro educativo privado en la localidad de Arequipa', 'Descripción de la metodología de análisis de cluster con algoritmo Fuzzy C-means', 'Análisis de datos en una auditoría de mercado para productos de consumo masivo en bodegas de Lima Metropolitana', 'Análisis y diseño de un sistema distribuido de pago middleware orientado a la mensajería entre una entidad bancaria y una empresa farmacéutica', 'Análisis del coste de los siniestros en una compañía de seguros utilizando las distribuciones asimétricas Skew-Normal y Skew-T', 'Estimación de la incertidumbre asociado al método de ensayo para el análisis de ácido carmínico en cochinilla', 'Segmentación de usuarios de productos tecnológicos a partir de valores y actitudes', 'Clasificación de familias en Cajamarca según su situación económica mediante el análisis de conglomerados', 'Determinación de perfiles de turistas nacionales de los niveles socioeconómicos medio y alto mediante el análisis conglomerado bietápico', 'Modelación de la volatilidad del índice general de la Bolsa de Valores de Lima, periodo 2009-2011', 'Identificación de perfiles de clientes crediticios aplicando técnicas de segmentación y regresión logística multinomial', 'Predicción del rendimiento en el exámen de admisión a la UNALM [Universidad Nacional Agraria La Molina] utilizando las técnicas de análisis discriminante lineal y análisis discriminante con algoritmos genéticos', 'Identificación de un modelo explicativo de retención de clientes con riesgo de fuga para una entidad bancaria aplicando regresión logística y árboles de clasificación CART', 'Perfil de los clientes que aceptan una tarjeta de crédito de un banco via Call Center utilizando el algoritmo Chaid exhaustivo', 'Uso del criterio AHP para la toma de decisiones', 'Muestreo de unidades agrícolas a través de puntos fijados aleatoriamente', 'Modelo predictivo de quiebre de stock en un supermercado comparando dos métodos de selección de variables']\n"
     ]
    }
   ],
   "source": [
    "print(universities['titulos'])"
   ]
  },
  {
   "cell_type": "code",
   "execution_count": 7,
   "id": "06640a92",
   "metadata": {},
   "outputs": [
    {
     "name": "stdout",
     "output_type": "stream",
     "text": [
      "['Ingeniero Estadístico Informático', 'Ingeniero Estadístico Informático', 'Ingeniero Estadístico Informático', 'Ingeniero Estadístico Informático', 'Ingeniero Estadístico e Informático', 'Ingeniero Estadístico Informático', 'Ingeniero Estadístico Informático', 'Ingeniero Estadístico Informático', 'Ingeniero Estadístico Informático', 'Ingeniero Estadístico Informático', 'Ingeniero Estadístico Informático', 'Ingeniero Estadístico Informático', 'Ingeniero Estadístico Informático', 'Ingeniero Estadístico Informático', 'Ingeniero Estadístico Informático', 'Ingeniero Estadístico Informático', 'Ingeniero Estadístico Informático', 'Ingeniero Estadístico Informático', 'Ingeniero Estadístico Informático', 'Ingeniero Estadístico Informático', 'Ingeniero Estadístico Informático', 'Ingeniero Estadístico Informático', 'Ingeniero Estadístico Informático', 'Ingeniero Estadístico Informático', 'Ingeniero Estadístico Informático', 'Ingeniero Estadístico Informático', 'Ingeniero Estadístico Informático', 'Ingeniero Estadístico Informático', 'Ingeniero Estadístico Informático', 'Ingeniero Estadístico e Informático', 'Ingeniero Estadístico Informático', 'Ingeniero Estadístico', 'Ingeniero Estadístico e Informático', 'Ingeniero Estadístico Informático', 'Ingeniero Estadístico Informático', 'Ingeniero Estadístico e Informático', 'Ingeniero Estadístico Informático', 'Ingeniero Estadístico Informático', 'Ingeniero Estadístico Informático', 'Ingeniero Estadístico Informático', 'Ingeniero Estadístico e Informático', 'Ingeniero Estadístico e Informático', 'Ingeniero Estadístico Informático', 'Ingeniero Estadístico e Informático', 'Ingeniero Estadístico e Informático', 'Ingeniero Estadístico Informático', 'Ingeniero Estadístico e Informático', 'Ingeniero Estadístico Informático', 'Ingeniero Estadístico e Informático', 'Ingeniero Estadístico e Informático', 'Ingeniero Estadístico e Informático', 'Ingeniero Estadístico Informático', 'Ingeniero Estadístico e Informático', 'Ingeniero Estadístico e Informático', 'Ingeniero Estadístico e Informático', 'Ingeniero Estadístico e Informático', 'Ingeniero Estadístico e Informático', 'Ingeniero Estadístico e Informático', 'Ingeniero Estadístico e Informático', 'Ingeniero Estadístico e Informático', 'Ingeniero Estadístico e Informático', 'Ingeniero Estadístico', 'Ingeniero Estadístico e Informático']\n"
     ]
    }
   ],
   "source": [
    "print(universities['grados'])\n"
   ]
  },
  {
   "cell_type": "code",
   "execution_count": 4,
   "id": "9cfce18a",
   "metadata": {},
   "outputs": [
    {
     "name": "stdout",
     "output_type": "stream",
     "text": [
      "['Universidad Nacional Agraria La Molina. Facultad de Economía y Planificación', 'Universidad Nacional Agraria La Molina. Facultad de Economía y Planificación', 'Universidad Nacional Agraria La Molina. Facultad de Economía y Planificación', 'Universidad Nacional Agraria La Molina. Facultad de Economía y Planificación', 'Universidad Nacional Agraria La Molina. Facultad de Economía y Planificación', 'Universidad Nacional Agraria La Molina. Facultad de Economía y Planificación', 'Universidad Nacional Agraria La Molina. Facultad de Economía y Planificación', 'Universidad Nacional Agraria La Molina. Facultad de Economía y Planificación', 'Universidad Nacional Agraria La Molina. Facultad de Economía y Planificación', 'Universidad Nacional Agraria La Molina. Facultad de Economía y Planificación', 'Universidad Nacional Agraria La Molina. Facultad de Economía y Planificación', 'Universidad Nacional Agraria La Molina. Facultad de Economía y Planificación', 'Universidad Nacional Agraria La Molina. Facultad de Economía y Planificación', 'Universidad Nacional Agraria La Molina. Facultad de Economía y Planificación', 'Universidad Nacional Agraria La Molina. Facultad de Economía y Planificación', 'Universidad Nacional Agraria La Molina. Facultad de Economía y Planificación', 'Universidad Nacional Agraria La Molina. Facultad de Economía y Planificación', 'Universidad Nacional Agraria La Molina. Facultad de Economía y Planificación', 'Universidad Nacional Agraria La Molina. Facultad de Economía y Planificación', 'Universidad Nacional Agraria La Molina. Facultad de Economía y Planificación', 'Universidad Nacional Agraria La Molina. Facultad de Economía y Planificación', 'Universidad Nacional Agraria La Molina. Facultad de Economía y Planificación', 'Universidad Nacional Agraria La Molina. Facultad de Economía y Planificación', 'Universidad Nacional Agraria La Molina. Facultad de Economía y Planificación', 'Universidad Nacional Agraria La Molina. Facultad de Economía y Planificación', 'Universidad Nacional Agraria La Molina. Facultad de Economía y Planificación', 'Universidad Nacional Agraria La Molina. Facultad de Economía y Planificación', 'Universidad Nacional Agraria La Molina. Facultad de Economía y Planificación', 'Universidad Nacional Agraria La Molina. Facultad de Economía y Planificación', 'Universidad Nacional Agraria La Molina. Facultad de Economía y Planificación', 'Universidad Nacional Agraria La Molina. Facultad de Economía y Planificación', 'Universidad Nacional Agraria La Molina. Facultad de Economía y Planificación', 'Universidad Nacional Agraria La Molina. Facultad de Economía y Planificación', 'Universidad Nacional Agraria La Molina. Facultad de Economía y Planificación', 'Universidad Nacional Agraria La Molina. Facultad de Economía y Planificación', 'Universidad Nacional Agraria La Molina. Facultad de Economía y Planificación', 'Universidad Nacional Agraria La Molina. Facultad de Economía y Planificación', 'Universidad Nacional Agraria La Molina. Facultad de Economía y Planificación', 'Universidad Nacional Agraria La Molina. Facultad de Economía y Planificación', 'Universidad Nacional Agraria La Molina. Facultad de Economía y Planificación', 'Universidad Nacional Agraria La Molina. Facultad de Economía y Planificación', 'Universidad Nacional Agraria La Molina. Facultad de Economía y Planificación', 'Universidad Nacional Agraria La Molina. Facultad de Economía y Planificación', 'Universidad Nacional Agraria La Molina. Facultad de Economía y Planificación', 'Universidad Nacional Agraria La Molina. Facultad de Economía y Planificación', 'Universidad Nacional Agraria La Molina. Facultad de Economía y Planificación', 'Universidad Nacional Agraria La Molina. Facultad de Economía y Planificación', 'Universidad Nacional Agraria La Molina. Facultad de Economía y Planificación', 'Universidad Nacional Agraria La Molina. Facultad de Economía y Planificación', 'Universidad Nacional Agraria La Molina. Facultad de Economía y Planificación', 'Universidad Nacional Agraria La Molina. Facultad de Economía y Planificación', 'Universidad Nacional Agraria La Molina. Facultad de Economía y Planificación', 'Universidad Nacional Agraria La Molina. Facultad de Economía y Planificación', 'Universidad Nacional Agraria La Molina. Facultad de Economía y Planificación', 'Universidad Nacional Agraria La Molina. Facultad de Economía y Planificación', 'Universidad Nacional Agraria La Molina. Facultad de Economía y Planificación', 'Universidad Nacional Agraria La Molina. Facultad de Economía y Planificación', 'Universidad Nacional Agraria La Molina. Facultad de Economía y Planificación', 'Universidad Nacional Agraria La Molina. Facultad de Economía y Planificación', 'Universidad Nacional Agraria La Molina. Facultad de Economía y Planificación', 'Universidad Nacional Agraria La Molina. Facultad de Economía y Planificación', 'Universidad Nacional Agraria La Molina. Facultad de Economía y Planificación', 'Universidad Nacional Agraria La Molina. Facultad de Economía y Planificación']\n",
      "['Chue Gallardo, Jorge', 'Miranda Villagómez, Clodomiro Fernando', 'Soto Rodríguez, Iván Dennys', 'Chue Gallardo, Jorge', 'Menacho Chiok, César Higinio', 'Soto Rodríguez, Iván Dennys', 'Soto Rodríguez, Iván Dennys', 'Menacho Chiok, César Higinio', 'Soto Rodríguez, Iván Dennys', 'Rosas Villena, Fernando René', 'Gamboa Unsihuay, Jesús Eduardo', 'Chue Gallardo, Jorge', 'Rosas Villena, Fernando René', 'Valencia Chacón, Raphael Félix', 'Chue Gallardo, Jorge', 'Rosas Villena, Fernando René', 'Menacho Chiok, César Higinio', 'Rosas Villena, Fernando René', 'Chue Gallardo, Jorge', 'Rosas Villena, Fernando René', 'Menacho Chiok, César Higinio', 'Menacho Chiok, César Higinio', 'Menacho Chiok, César Higinio', 'Soto Rodríguez, Iván Dennys', 'Gamboa Unsihuay, Jesús Eduardo', 'Salinas Flores, Jesús Walter', 'Salinas Flores, Jesús Walter', 'Rosas Villena, Fernando René', 'Chue Gallardo, Jorge', 'Soto Rodríguez, Iván Dennys', 'Salinas Flores, Jesús Walter', 'Sotomayor Ruíz, Rino Nicanor', 'Menacho Chiok, César Higinio', 'Salinas Flores, Jesús Walter', 'N/A', 'Rosas Villena, Fernando René', 'N/A', 'N/A', 'N/A', 'N/A', 'Salinas Flores, Jesús Walter', 'Salinas Flores, Jesús Walter', 'Chue Gallardo, Jorge', 'N/A', 'N/A', 'Vargas Paredes, Ana Cecilia', 'Espinoza Villanueva, Luis Enrique', 'N/A', 'Gonzáles Chavesta, Celso', 'Menacho Chiok, César Higinio', 'López de Castilla Vásquez, Carlos', 'Sotomayor Ruíz, Rino Nicanor', 'N/A', 'N/A', 'N/A', 'Sotomayor Ruíz, Rino Nicanor', 'N/A', 'Rosas Villena, Fernando René', 'N/A', 'N/A', 'Sotomayor Ruíz, Rino Nicanor', 'Rubio Donet, Arturo', 'N/A']\n"
     ]
    }
   ],
   "source": [
    "\n",
    "print(universities['unis'])\n",
    "print(universities['asesores'])\n",
    "\n",
    "#La información descargada debe estar estructurada de la forma siguiente:\n",
    "#- Institución (universidad) //test\n",
    "#- Título de la tesis\n",
    "#- Nombre del tesista\n",
    "#- Grado (‘para obtener el grado de:’ … bachiller, ingeniero, licenciado, maestro,\n",
    "#doctor, etc)\n",
    "#- Nombre del asesor(es)\n",
    "#- Resumen\n",
    "#- Año"
   ]
  },
  {
   "cell_type": "code",
   "execution_count": null,
   "id": "e5d7b6f1",
   "metadata": {},
   "outputs": [],
   "source": []
  }
 ],
 "metadata": {
  "kernelspec": {
   "display_name": "Python 3 (ipykernel)",
   "language": "python",
   "name": "python3"
  },
  "language_info": {
   "codemirror_mode": {
    "name": "ipython",
    "version": 3
   },
   "file_extension": ".py",
   "mimetype": "text/x-python",
   "name": "python",
   "nbconvert_exporter": "python",
   "pygments_lexer": "ipython3",
   "version": "3.9.7"
  }
 },
 "nbformat": 4,
 "nbformat_minor": 5
}
