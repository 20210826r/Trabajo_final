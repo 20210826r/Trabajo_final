{
 "cells": [
  {
   "cell_type": "code",
   "execution_count": 2,
   "id": "0f014921",
   "metadata": {
    "scrolled": true
   },
   "outputs": [
    {
     "name": "stderr",
     "output_type": "stream",
     "text": [
      "C:\\Users\\USER\\anaconda3\\lib\\site-packages\\bs4\\__init__.py:164: UserWarning: No parser was explicitly specified, so I'm using the best available HTML parser for this system (\"lxml\"). This usually isn't a problem, but if you run this code on another system, or in a different virtual environment, it may use a different parser and behave differently.\n",
      "\n",
      "To get rid of this warning, change this:\n",
      "\n",
      " BeautifulSoup([your markup])\n",
      "\n",
      "to this:\n",
      "\n",
      " BeautifulSoup([your markup], \"lxml\")\n",
      "\n",
      "  warnings.warn(self.NO_PARSER_SPECIFIED_WARNING % dict(\n"
     ]
    },
    {
     "name": "stdout",
     "output_type": "stream",
     "text": [
      "http://repositorio.lamolina.edu.pe/handle/20.500.12996/5218?show=full\n"
     ]
    }
   ],
   "source": [
    "###-Repositorio estadistica informatica pregrado UNALM-### \n",
    "\n",
    "#Trabajo Final → AVANCE.\n",
    "#1. Relación de repositorios con sus respectivos url\n",
    "#2. Automatización de la descarga de la información de un repositorio.\n",
    "#3. Estructuración de la información descargada en formato csv\n",
    "\n",
    "#repositorios\n",
    "\n",
    "#1. UNALM Pregrado #http://repositorio.lamolina.edu.pe/handle/20.500.12996/26/recent-submissions\n",
    "#2. PUCP Posgrado #https://tesis.pucp.edu.pe/repositorio/handle/20.500.12404/757\n",
    "#3. UNALM Posgrado #http://repositorio.lamolina.edu.pe/handle/20.500.12996/329\n",
    "\n",
    "url = 'http://repositorio.lamolina.edu.pe/handle/20.500.12996/26/recent-submissions'\n",
    "\n",
    "import urllib.request, urllib.error\n",
    "from bs4 import BeautifulSoup\n",
    "import re as re \n",
    "\n",
    "#url de la siguiente pagina\n",
    "def next_page(url):\n",
    "    page = urllib.request.urlopen(url)\n",
    "    soup = BeautifulSoup(page)\n",
    "    \n",
    "    line = soup.find('a',{'class':'next-page-link'})\n",
    "    line = line.decode().strip()\n",
    "    offset = re.findall(r'\\?offset=.{2}',line)\n",
    "    url_diff = offset[0]\n",
    "    \n",
    "    url = re.sub('\\?offset.*','',url)\n",
    "    n_url = url + url_diff\n",
    "    return n_url\n",
    "\n",
    "#url de todas las paginas \n",
    "URL = []\n",
    "url1 = url\n",
    "\n",
    "def all_pages(url,URL):\n",
    "    \n",
    "    page = urllib.request.urlopen(url)\n",
    "    soup = BeautifulSoup(page)\n",
    "    last = soup.find('li',{'class':'next pull-right disabled'})\n",
    "    URL.append(url)\n",
    "    if last == None: \n",
    "        url = next_page(url)\n",
    "        all_pages(url,URL)\n",
    "    else: \n",
    "        return URL \n",
    "    return URL \n",
    "all_pages(url1,URL)\n",
    "\n",
    "###Almacenar links de las tesis \n",
    "\n",
    "#tittles =[]\n",
    "handles = [] \n",
    "\n",
    "for urls in URL: \n",
    "    page = urllib.request.urlopen(urls)\n",
    "    soup = BeautifulSoup(page)\n",
    "    for lines in soup.find_all('h4'):\n",
    "        lines = lines.decode().strip()\n",
    "        link = re.findall(r'(?<=20.500.12996/).+?(?=\\\")',lines) #handle unico a cada tesis \n",
    "        handles.append(link)\n",
    "        #tittle = re.findall(r'(?<=>)\\w.+?(?=<)',lines) #Titulo de la tesis \n",
    "        #tittles.append(tittle)\n",
    "\n",
    "## Links completos \n",
    "\n",
    "links=[]\n",
    "def get_links(handles,links):\n",
    "    handle_url = re.sub('(?<=20.500.12996/).+','',url)\n",
    "    for i in range(len(handles)): \n",
    "        links.append(handle_url+handles[i][0])\n",
    "    return links\n",
    "\n",
    "get_links(handles,links)    \n",
    "\n",
    "links_full = [] \n",
    "for link in links: \n",
    "    links_full.append(link+'?show=full')\n",
    "\n",
    "print(links_full[4])\n",
    "\n",
    "##test \n",
    "#page1 = urllib.request.urlopen(links_full[0])\n",
    "#soup1 = BeautifulSoup(page1)\n",
    "#full_t=''\n",
    "\n",
    "#for line in soup1.find_all('tr'):\n",
    "#    full_t = line.decode().strip()+'\\n'+full_t\n",
    "\n",
    "#grantor = re.findall(r'(?<=>thesis\\.degree\\.grantor</td><td class=\\\"word-break\\\">).+?(?=</td>)',full_t)\n",
    "#print(grantor)\n",
    "\n",
    "\n"
   ]
  },
  {
   "cell_type": "code",
   "execution_count": 3,
   "id": "cf710827",
   "metadata": {},
   "outputs": [
    {
     "name": "stdout",
     "output_type": "stream",
     "text": [
      "owo\n"
     ]
    }
   ],
   "source": [
    "##\n",
    "\n",
    "rep_unalm = { \n",
    "        'unis' : [],\n",
    "        'titulos' : [],\n",
    "        'nombres' : [],\n",
    "        #'grados1' : [],\n",
    "        'grados' : [], \n",
    "        'asesores' : [],\n",
    "        'resumenes': [],\n",
    "        'años' : [] }\n",
    "        \n",
    "\n",
    "def get_all(links_full,reps_unalm):\n",
    "    for i in range(len(links_full)): \n",
    "        page = urllib.request.urlopen(links_full[i])\n",
    "        soup = BeautifulSoup(page)\n",
    "        full_t=''\n",
    "        for line in soup.find_all('tr'):\n",
    "            full_t = line.decode().strip()+'\\n'+full_t\n",
    "            \n",
    "        uni = re.findall(r'(?<=>thesis\\.degree\\.grantor</td><td class=\\\"word-break\\\">).+?(?=</td>)',full_t)\n",
    "        titulo = re.findall(r'(?<=>dc\\.title</td><td class=\\\"word-break\\\">).+?(?=</td>)',full_t)\n",
    "        nombre = re.findall(r'(?<=>dc\\.contributor\\.author</td><td class=\\\"word-break\\\">).+?(?=</td>)',full_t)\n",
    "        #grado1 = re.findall(r'(?<=>dc\\.type</td><td class=\\\"word-break\\\">info:eu-repo/semantics/).+?(?=</td>)',full_t)\n",
    "        grado = re.findall(r'(?<=>thesis\\.degree\\.name</td><td class=\\\"word-break\\\">).+?(?=</td>)',full_t)\n",
    "        asesor = re.findall(r'(?<=>dc\\.contributor\\.advisor</td><td class=\\\"word-break\\\">).+?(?=</td>)',full_t)\n",
    "        resumen = re.findall(r'(?<=>dc\\.description\\.abstract</td><td class=\\\"word-break\\\">).+?(?=</td><td>es_PE</td>)',full_t)\n",
    "        año = re.findall(r'(?<=>dc\\.date\\.issued</td><td class=\\\"word-break\\\">).+?(?=</td>)',full_t)\n",
    "        \n",
    "        rep_unalm['unis'].append(uni[0])\n",
    "        rep_unalm['titulos'].append(titulo[0])     \n",
    "        rep_unalm['nombres'].append(nombre[0])\n",
    "        #rep_unalm['grados1'].append(grado1[0])\n",
    "        rep_unalm['grados'].append(grado[0]) \n",
    "        \n",
    "        if asesor == []: \n",
    "            rep_unalm['asesores'].append('N/A')\n",
    "        else:\n",
    "            rep_unalm['asesores'].append(asesor[0])\n",
    "            \n",
    "        rep_unalm['resumenes'].append(resumen[0])\n",
    "        rep_unalm['años'].append(año[0])\n",
    "    return reps_unalm\n",
    "\n",
    "universities = get_all(links_full,rep_unalm)\n",
    "\n",
    "print('owo')"
   ]
  },
  {
   "cell_type": "code",
   "execution_count": 29,
   "id": "49aaf9cc",
   "metadata": {},
   "outputs": [
    {
     "name": "stdout",
     "output_type": "stream",
     "text": [
      "['Ingeniero Estadístico Informático', 'Ingeniero Estadístico Informático', 'Ingeniero Estadístico Informático', 'Ingeniero Estadístico Informático', 'Ingeniero Estadístico e Informático', 'Ingeniero Estadístico Informático', 'Ingeniero Estadístico Informático', 'Ingeniero Estadístico Informático', 'Ingeniero Estadístico Informático', 'Ingeniero Estadístico Informático', 'Ingeniero Estadístico Informático', 'Ingeniero Estadístico Informático', 'Ingeniero Estadístico Informático', 'Ingeniero Estadístico Informático', 'Ingeniero Estadístico Informático', 'Ingeniero Estadístico Informático', 'Ingeniero Estadístico Informático', 'Ingeniero Estadístico Informático', 'Ingeniero Estadístico Informático', 'Ingeniero Estadístico Informático', 'Ingeniero Estadístico Informático', 'Ingeniero Estadístico Informático', 'Ingeniero Estadístico Informático', 'Ingeniero Estadístico Informático', 'Ingeniero Estadístico Informático', 'Ingeniero Estadístico Informático', 'Ingeniero Estadístico Informático', 'Ingeniero Estadístico Informático', 'Ingeniero Estadístico Informático', 'Ingeniero Estadístico e Informático', 'Ingeniero Estadístico Informático', 'Ingeniero Estadístico', 'Ingeniero Estadístico e Informático', 'Ingeniero Estadístico Informático', 'Ingeniero Estadístico Informático', 'Ingeniero Estadístico e Informático', 'Ingeniero Estadístico Informático', 'Ingeniero Estadístico Informático', 'Ingeniero Estadístico Informático', 'Ingeniero Estadístico Informático', 'Ingeniero Estadístico e Informático', 'Ingeniero Estadístico e Informático', 'Ingeniero Estadístico Informático', 'Ingeniero Estadístico e Informático', 'Ingeniero Estadístico e Informático', 'Ingeniero Estadístico Informático', 'Ingeniero Estadístico e Informático', 'Ingeniero Estadístico Informático', 'Ingeniero Estadístico e Informático', 'Ingeniero Estadístico e Informático', 'Ingeniero Estadístico e Informático', 'Ingeniero Estadístico Informático', 'Ingeniero Estadístico e Informático', 'Ingeniero Estadístico e Informático', 'Ingeniero Estadístico e Informático', 'Ingeniero Estadístico e Informático', 'Ingeniero Estadístico e Informático', 'Ingeniero Estadístico e Informático', 'Ingeniero Estadístico e Informático', 'Ingeniero Estadístico e Informático', 'Ingeniero Estadístico e Informático', 'Ingeniero Estadístico', 'Ingeniero Estadístico e Informático']\n"
     ]
    }
   ],
   "source": [
    "print(universities['grados'])"
   ]
  },
  {
   "cell_type": "code",
   "execution_count": 7,
   "id": "554f6fa5",
   "metadata": {},
   "outputs": [
    {
     "name": "stdout",
     "output_type": "stream",
     "text": [
      "['Ingeniero Estadístico Informático', 'Ingeniero Estadístico Informático', 'Ingeniero Estadístico Informático', 'Ingeniero Estadístico Informático', 'Ingeniero Estadístico e Informático', 'Ingeniero Estadístico Informático', 'Ingeniero Estadístico Informático', 'Ingeniero Estadístico Informático', 'Ingeniero Estadístico Informático', 'Ingeniero Estadístico Informático', 'Ingeniero Estadístico Informático', 'Ingeniero Estadístico Informático', 'Ingeniero Estadístico Informático', 'Ingeniero Estadístico Informático', 'Ingeniero Estadístico Informático', 'Ingeniero Estadístico Informático', 'Ingeniero Estadístico Informático', 'Ingeniero Estadístico Informático', 'Ingeniero Estadístico Informático', 'Ingeniero Estadístico Informático', 'Ingeniero Estadístico Informático', 'Ingeniero Estadístico Informático', 'Ingeniero Estadístico Informático', 'Ingeniero Estadístico Informático', 'Ingeniero Estadístico Informático', 'Ingeniero Estadístico Informático', 'Ingeniero Estadístico Informático', 'Ingeniero Estadístico Informático', 'Ingeniero Estadístico Informático', 'Ingeniero Estadístico e Informático', 'Ingeniero Estadístico Informático', 'Ingeniero Estadístico', 'Ingeniero Estadístico e Informático', 'Ingeniero Estadístico Informático', 'Ingeniero Estadístico Informático', 'Ingeniero Estadístico e Informático', 'Ingeniero Estadístico Informático', 'Ingeniero Estadístico Informático', 'Ingeniero Estadístico Informático', 'Ingeniero Estadístico Informático', 'Ingeniero Estadístico e Informático', 'Ingeniero Estadístico e Informático', 'Ingeniero Estadístico Informático', 'Ingeniero Estadístico e Informático', 'Ingeniero Estadístico e Informático', 'Ingeniero Estadístico Informático', 'Ingeniero Estadístico e Informático', 'Ingeniero Estadístico Informático', 'Ingeniero Estadístico e Informático', 'Ingeniero Estadístico e Informático', 'Ingeniero Estadístico e Informático', 'Ingeniero Estadístico Informático', 'Ingeniero Estadístico e Informático', 'Ingeniero Estadístico e Informático', 'Ingeniero Estadístico e Informático', 'Ingeniero Estadístico e Informático', 'Ingeniero Estadístico e Informático', 'Ingeniero Estadístico e Informático', 'Ingeniero Estadístico e Informático', 'Ingeniero Estadístico e Informático', 'Ingeniero Estadístico e Informático', 'Ingeniero Estadístico', 'Ingeniero Estadístico e Informático']\n"
     ]
    }
   ],
   "source": [
    "print(universities['grados'])\n"
   ]
  },
  {
   "cell_type": "code",
   "execution_count": 4,
   "id": "9cfce18a",
   "metadata": {},
   "outputs": [
    {
     "name": "stdout",
     "output_type": "stream",
     "text": [
      "['Universidad Nacional Agraria La Molina. Facultad de Economía y Planificación', 'Universidad Nacional Agraria La Molina. Facultad de Economía y Planificación', 'Universidad Nacional Agraria La Molina. Facultad de Economía y Planificación', 'Universidad Nacional Agraria La Molina. Facultad de Economía y Planificación', 'Universidad Nacional Agraria La Molina. Facultad de Economía y Planificación', 'Universidad Nacional Agraria La Molina. Facultad de Economía y Planificación', 'Universidad Nacional Agraria La Molina. Facultad de Economía y Planificación', 'Universidad Nacional Agraria La Molina. Facultad de Economía y Planificación', 'Universidad Nacional Agraria La Molina. Facultad de Economía y Planificación', 'Universidad Nacional Agraria La Molina. Facultad de Economía y Planificación', 'Universidad Nacional Agraria La Molina. Facultad de Economía y Planificación', 'Universidad Nacional Agraria La Molina. Facultad de Economía y Planificación', 'Universidad Nacional Agraria La Molina. Facultad de Economía y Planificación', 'Universidad Nacional Agraria La Molina. Facultad de Economía y Planificación', 'Universidad Nacional Agraria La Molina. Facultad de Economía y Planificación', 'Universidad Nacional Agraria La Molina. Facultad de Economía y Planificación', 'Universidad Nacional Agraria La Molina. Facultad de Economía y Planificación', 'Universidad Nacional Agraria La Molina. Facultad de Economía y Planificación', 'Universidad Nacional Agraria La Molina. Facultad de Economía y Planificación', 'Universidad Nacional Agraria La Molina. Facultad de Economía y Planificación', 'Universidad Nacional Agraria La Molina. Facultad de Economía y Planificación', 'Universidad Nacional Agraria La Molina. Facultad de Economía y Planificación', 'Universidad Nacional Agraria La Molina. Facultad de Economía y Planificación', 'Universidad Nacional Agraria La Molina. Facultad de Economía y Planificación', 'Universidad Nacional Agraria La Molina. Facultad de Economía y Planificación', 'Universidad Nacional Agraria La Molina. Facultad de Economía y Planificación', 'Universidad Nacional Agraria La Molina. Facultad de Economía y Planificación', 'Universidad Nacional Agraria La Molina. Facultad de Economía y Planificación', 'Universidad Nacional Agraria La Molina. Facultad de Economía y Planificación', 'Universidad Nacional Agraria La Molina. Facultad de Economía y Planificación', 'Universidad Nacional Agraria La Molina. Facultad de Economía y Planificación', 'Universidad Nacional Agraria La Molina. Facultad de Economía y Planificación', 'Universidad Nacional Agraria La Molina. Facultad de Economía y Planificación', 'Universidad Nacional Agraria La Molina. Facultad de Economía y Planificación', 'Universidad Nacional Agraria La Molina. Facultad de Economía y Planificación', 'Universidad Nacional Agraria La Molina. Facultad de Economía y Planificación', 'Universidad Nacional Agraria La Molina. Facultad de Economía y Planificación', 'Universidad Nacional Agraria La Molina. Facultad de Economía y Planificación', 'Universidad Nacional Agraria La Molina. Facultad de Economía y Planificación', 'Universidad Nacional Agraria La Molina. Facultad de Economía y Planificación', 'Universidad Nacional Agraria La Molina. Facultad de Economía y Planificación', 'Universidad Nacional Agraria La Molina. Facultad de Economía y Planificación', 'Universidad Nacional Agraria La Molina. Facultad de Economía y Planificación', 'Universidad Nacional Agraria La Molina. Facultad de Economía y Planificación', 'Universidad Nacional Agraria La Molina. Facultad de Economía y Planificación', 'Universidad Nacional Agraria La Molina. Facultad de Economía y Planificación', 'Universidad Nacional Agraria La Molina. Facultad de Economía y Planificación', 'Universidad Nacional Agraria La Molina. Facultad de Economía y Planificación', 'Universidad Nacional Agraria La Molina. Facultad de Economía y Planificación', 'Universidad Nacional Agraria La Molina. Facultad de Economía y Planificación', 'Universidad Nacional Agraria La Molina. Facultad de Economía y Planificación', 'Universidad Nacional Agraria La Molina. Facultad de Economía y Planificación', 'Universidad Nacional Agraria La Molina. Facultad de Economía y Planificación', 'Universidad Nacional Agraria La Molina. Facultad de Economía y Planificación', 'Universidad Nacional Agraria La Molina. Facultad de Economía y Planificación', 'Universidad Nacional Agraria La Molina. Facultad de Economía y Planificación', 'Universidad Nacional Agraria La Molina. Facultad de Economía y Planificación', 'Universidad Nacional Agraria La Molina. Facultad de Economía y Planificación', 'Universidad Nacional Agraria La Molina. Facultad de Economía y Planificación', 'Universidad Nacional Agraria La Molina. Facultad de Economía y Planificación', 'Universidad Nacional Agraria La Molina. Facultad de Economía y Planificación', 'Universidad Nacional Agraria La Molina. Facultad de Economía y Planificación', 'Universidad Nacional Agraria La Molina. Facultad de Economía y Planificación']\n",
      "['Chue Gallardo, Jorge', 'Miranda Villagómez, Clodomiro Fernando', 'Soto Rodríguez, Iván Dennys', 'Chue Gallardo, Jorge', 'Menacho Chiok, César Higinio', 'Soto Rodríguez, Iván Dennys', 'Soto Rodríguez, Iván Dennys', 'Menacho Chiok, César Higinio', 'Soto Rodríguez, Iván Dennys', 'Rosas Villena, Fernando René', 'Gamboa Unsihuay, Jesús Eduardo', 'Chue Gallardo, Jorge', 'Rosas Villena, Fernando René', 'Valencia Chacón, Raphael Félix', 'Chue Gallardo, Jorge', 'Rosas Villena, Fernando René', 'Menacho Chiok, César Higinio', 'Rosas Villena, Fernando René', 'Chue Gallardo, Jorge', 'Rosas Villena, Fernando René', 'Menacho Chiok, César Higinio', 'Menacho Chiok, César Higinio', 'Menacho Chiok, César Higinio', 'Soto Rodríguez, Iván Dennys', 'Gamboa Unsihuay, Jesús Eduardo', 'Salinas Flores, Jesús Walter', 'Salinas Flores, Jesús Walter', 'Rosas Villena, Fernando René', 'Chue Gallardo, Jorge', 'Soto Rodríguez, Iván Dennys', 'Salinas Flores, Jesús Walter', 'Sotomayor Ruíz, Rino Nicanor', 'Menacho Chiok, César Higinio', 'Salinas Flores, Jesús Walter', 'N/A', 'Rosas Villena, Fernando René', 'N/A', 'N/A', 'N/A', 'N/A', 'Salinas Flores, Jesús Walter', 'Salinas Flores, Jesús Walter', 'Chue Gallardo, Jorge', 'N/A', 'N/A', 'Vargas Paredes, Ana Cecilia', 'Espinoza Villanueva, Luis Enrique', 'N/A', 'Gonzáles Chavesta, Celso', 'Menacho Chiok, César Higinio', 'López de Castilla Vásquez, Carlos', 'Sotomayor Ruíz, Rino Nicanor', 'N/A', 'N/A', 'N/A', 'Sotomayor Ruíz, Rino Nicanor', 'N/A', 'Rosas Villena, Fernando René', 'N/A', 'N/A', 'Sotomayor Ruíz, Rino Nicanor', 'Rubio Donet, Arturo', 'N/A']\n"
     ]
    }
   ],
   "source": [
    "\n",
    "print(universities['unis'])\n",
    "print(universities['asesores'])\n",
    "\n",
    "#La información descargada debe estar estructurada de la forma siguiente:\n",
    "#- Institución (universidad) //test\n",
    "#- Título de la tesis\n",
    "#- Nombre del tesista\n",
    "#- Grado (‘para obtener el grado de:’ … bachiller, ingeniero, licenciado, maestro,\n",
    "#doctor, etc)\n",
    "#- Nombre del asesor(es)\n",
    "#- Resumen\n",
    "#- Año"
   ]
  },
  {
   "cell_type": "code",
   "execution_count": 4,
   "id": "fdfaf090",
   "metadata": {},
   "outputs": [],
   "source": [
    "import pandas as pd\n",
    "df = pd.DataFrame(universities)\n",
    "#df\n",
    "# Exportando a un csv\n",
    "df.to_csv(\"tesisUNALM.csv\", index=False,encoding='utf-8-sig')"
   ]
  },
  {
   "cell_type": "code",
   "execution_count": null,
   "id": "76acf2af",
   "metadata": {},
   "outputs": [],
   "source": []
  }
 ],
 "metadata": {
  "kernelspec": {
   "display_name": "Python 3 (ipykernel)",
   "language": "python",
   "name": "python3"
  },
  "language_info": {
   "codemirror_mode": {
    "name": "ipython",
    "version": 3
   },
   "file_extension": ".py",
   "mimetype": "text/x-python",
   "name": "python",
   "nbconvert_exporter": "python",
   "pygments_lexer": "ipython3",
   "version": "3.9.12"
  }
 },
 "nbformat": 4,
 "nbformat_minor": 5
}
