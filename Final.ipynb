{
 "cells": [
  {
   "cell_type": "code",
   "execution_count": 1,
   "id": "0f014921",
   "metadata": {
    "scrolled": true
   },
   "outputs": [
    {
     "ename": "ModuleNotFoundError",
     "evalue": "No module named 'bs4'",
     "output_type": "error",
     "traceback": [
      "\u001b[1;31m---------------------------------------------------------------------------\u001b[0m",
      "\u001b[1;31mModuleNotFoundError\u001b[0m                       Traceback (most recent call last)",
      "Cell \u001b[1;32mIn[1], line 17\u001b[0m\n\u001b[0;32m     14\u001b[0m url \u001b[39m=\u001b[39m \u001b[39m'\u001b[39m\u001b[39mhttp://repositorio.lamolina.edu.pe/handle/20.500.12996/26/recent-submissions\u001b[39m\u001b[39m'\u001b[39m\n\u001b[0;32m     16\u001b[0m \u001b[39mimport\u001b[39;00m \u001b[39murllib\u001b[39;00m\u001b[39m.\u001b[39;00m\u001b[39mrequest\u001b[39;00m\u001b[39m,\u001b[39m \u001b[39murllib\u001b[39;00m\u001b[39m.\u001b[39;00m\u001b[39merror\u001b[39;00m\n\u001b[1;32m---> 17\u001b[0m \u001b[39mfrom\u001b[39;00m \u001b[39mbs4\u001b[39;00m \u001b[39mimport\u001b[39;00m BeautifulSoup\n\u001b[0;32m     18\u001b[0m \u001b[39mimport\u001b[39;00m \u001b[39mre\u001b[39;00m \u001b[39mas\u001b[39;00m \u001b[39mre\u001b[39;00m \n\u001b[0;32m     20\u001b[0m \u001b[39m#url de la siguiente pagina\u001b[39;00m\n",
      "\u001b[1;31mModuleNotFoundError\u001b[0m: No module named 'bs4'"
     ]
    }
   ],
   "source": [
    "###-Repositorio estadistica informatica pregrado UNALM-### \n",
    "\n",
    "#Trabajo Final → AVANCE.\n",
    "#1. Relación de repositorios con sus respectivos url\n",
    "#2. Automatización de la descarga de la información de un repositorio.\n",
    "#3. Estructuración de la información descargada en formato csv\n",
    "\n",
    "#repositorios\n",
    "\n",
    "#1. UNALM Pregrado #http://repositorio.lamolina.edu.pe/handle/20.500.12996/26/recent-submissions\n",
    "#2. PUCP Posgrado #https://tesis.pucp.edu.pe/repositorio/handle/20.500.12404/757\n",
    "#3. UNALM Posgrado #http://repositorio.lamolina.edu.pe/handle/20.500.12996/329\n",
    "\n",
    "url = 'http://repositorio.lamolina.edu.pe/handle/20.500.12996/26/recent-submissions'\n",
    "\n",
    "import urllib.request, urllib.error\n",
    "from bs4 import BeautifulSoup\n",
    "import re as re \n",
    "\n",
    "#url de la siguiente pagina\n",
    "def next_page(url):\n",
    "    page = urllib.request.urlopen(url)\n",
    "    soup = BeautifulSoup(page, \"html.parser\")\n",
    "    \n",
    "    line = soup.find('a',{'class':'next-page-link'})\n",
    "    line = line.decode().strip()\n",
    "    offset = re.findall(r'\\?offset=.{2}',line)\n",
    "    url_diff = offset[0]\n",
    "    \n",
    "    url = re.sub('\\?offset.*','',url)\n",
    "    n_url = url + url_diff\n",
    "    return n_url\n",
    "\n",
    "#url de todas las paginas \n",
    "URL = []\n",
    "url1 = url\n",
    "\n",
    "def all_pages(url,URL):\n",
    "    \n",
    "    page = urllib.request.urlopen(url)\n",
    "    soup = BeautifulSoup(page, \"html.parser\")\n",
    "    last = soup.find('li',{'class':'next pull-right disabled'})\n",
    "    URL.append(url)\n",
    "    if last == None: \n",
    "        url = next_page(url)\n",
    "        all_pages(url,URL)\n",
    "    else: \n",
    "        return URL \n",
    "    return URL \n",
    "all_pages(url1,URL)\n",
    "\n",
    "###Almacenar links de las tesis \n",
    "\n",
    "#tittles =[]\n",
    "handles = [] \n",
    "\n",
    "for urls in URL: \n",
    "    page = urllib.request.urlopen(urls)\n",
    "    soup = BeautifulSoup(page, \"html.parser\")\n",
    "    for lines in soup.find_all('h4'):\n",
    "        lines = lines.decode().strip()\n",
    "        link = re.findall(r'(?<=20.500.12996/).+?(?=\\\")',lines) #handle unico a cada tesis \n",
    "        handles.append(link)\n",
    "        #tittle = re.findall(r'(?<=>)\\w.+?(?=<)',lines) #Titulo de la tesis \n",
    "        #tittles.append(tittle)\n",
    "\n",
    "## Links completos \n",
    "\n",
    "links=[]\n",
    "def get_links(handles,links):\n",
    "    handle_url = re.sub('(?<=20.500.12996/).+','',url)\n",
    "    for i in range(len(handles)): \n",
    "        links.append(handle_url+handles[i][0])\n",
    "    return links\n",
    "\n",
    "get_links(handles,links)    \n",
    "\n",
    "links_full = [] \n",
    "for link in links: \n",
    "    links_full.append(link+'?show=full')\n",
    "\n",
    "##test \n",
    "#page1 = urllib.request.urlopen(links_full[0])\n",
    "#soup1 = BeautifulSoup(page1)\n",
    "#full_t=''\n",
    "\n",
    "#for line in soup1.find_all('tr'):\n",
    "#    full_t = line.decode().strip()+'\\n'+full_t\n",
    "\n",
    "#grantor = re.findall(r'(?<=>thesis\\.degree\\.grantor</td><td class=\\\"word-break\\\">).+?(?=</td>)',full_t)"
   ]
  },
  {
   "cell_type": "code",
   "execution_count": null,
   "id": "cf710827",
   "metadata": {},
   "outputs": [],
   "source": [
    "##\n",
    "\n",
    "rep_unalm = { \n",
    "        'unis' : [],\n",
    "        'titulos' : [],\n",
    "        'nombres' : [],\n",
    "        #'grados1' : [],\n",
    "        'grados' : [], \n",
    "        'asesores' : [],\n",
    "        'resumenes': [],\n",
    "        'años' : [] }\n",
    "        \n",
    "\n",
    "def get_all(links_full,reps_unalm):\n",
    "    for i in range(len(links_full)): \n",
    "        page = urllib.request.urlopen(links_full[i])\n",
    "        soup = BeautifulSoup(page)\n",
    "        full_t=''\n",
    "        for line in soup.find_all('tr'):\n",
    "            full_t = line.decode().strip()+'\\n'+full_t\n",
    "            \n",
    "        uni = re.findall(r'(?<=>thesis\\.degree\\.grantor</td><td class=\\\"word-break\\\">).+?(?=</td>)',full_t)\n",
    "        titulo = re.findall(r'(?<=>dc\\.title</td><td class=\\\"word-break\\\">).+?(?=</td>)',full_t)\n",
    "        nombre = re.findall(r'(?<=>dc\\.contributor\\.author</td><td class=\\\"word-break\\\">).+?(?=</td>)',full_t)\n",
    "        #grado1 = re.findall(r'(?<=>dc\\.type</td><td class=\\\"word-break\\\">info:eu-repo/semantics/).+?(?=</td>)',full_t)\n",
    "        grado = re.findall(r'(?<=>thesis\\.degree\\.name</td><td class=\\\"word-break\\\">).+?(?=</td>)',full_t)\n",
    "        asesor = re.findall(r'(?<=>dc\\.contributor\\.advisor</td><td class=\\\"word-break\\\">).+?(?=</td>)',full_t)\n",
    "        resumen = re.findall(r'(?<=>dc\\.description\\.abstract</td><td class=\\\"word-break\\\">).+?(?=</td><td>es_PE</td>)',full_t)\n",
    "        año = re.findall(r'(?<=>dc\\.date\\.issued</td><td class=\\\"word-break\\\">).+?(?=</td>)',full_t)\n",
    "        \n",
    "        rep_unalm['unis'].append(uni[0])\n",
    "        rep_unalm['titulos'].append(titulo[0])     \n",
    "        rep_unalm['nombres'].append(nombre[0])\n",
    "        #rep_unalm['grados1'].append(grado1[0])\n",
    "        rep_unalm['grados'].append(grado[0]) \n",
    "        \n",
    "        if asesor == []: \n",
    "            rep_unalm['asesores'].append('N/A')\n",
    "        else:\n",
    "            rep_unalm['asesores'].append(asesor[0])\n",
    "            \n",
    "        rep_unalm['resumenes'].append(resumen[0])\n",
    "        rep_unalm['años'].append(año[0])\n",
    "    return reps_unalm\n",
    "\n",
    "universities = get_all(links_full,rep_unalm)"
   ]
  },
  {
   "cell_type": "code",
   "execution_count": null,
   "id": "fdfaf090",
   "metadata": {},
   "outputs": [],
   "source": [
    "import pandas as pd\n",
    "df = pd.DataFrame(universities)\n",
    "#df\n",
    "# Exportando a un csv\n",
    "df.to_csv(\"tesisUNALM.csv\", index=False,encoding='utf-8-sig')"
   ]
  },
  {
   "cell_type": "code",
   "execution_count": null,
   "id": "5c0a2c86",
   "metadata": {},
   "outputs": [
    {
     "ename": "NameError",
     "evalue": "name 'pd' is not defined",
     "output_type": "error",
     "traceback": [
      "\u001b[1;31m---------------------------------------------------------------------------\u001b[0m",
      "\u001b[1;31mNameError\u001b[0m                                 Traceback (most recent call last)",
      "Cell \u001b[1;32mIn[1], line 1\u001b[0m\n\u001b[1;32m----> 1\u001b[0m DF2 \u001b[39m=\u001b[39m pd\u001b[39m.\u001b[39mread_csv(\u001b[39m'\u001b[39m\u001b[39mtesisUNALM.csv\u001b[39m\u001b[39m'\u001b[39m,  skiprows\u001b[39m=\u001b[39m\u001b[39m1\u001b[39m,           \n\u001b[0;32m      2\u001b[0m                  names\u001b[39m=\u001b[39m[\u001b[39m'\u001b[39m\u001b[39mInstitución\u001b[39m\u001b[39m'\u001b[39m,\u001b[39m'\u001b[39m\u001b[39mTítulo de la tesis\u001b[39m\u001b[39m'\u001b[39m, \u001b[39m'\u001b[39m\u001b[39mNombre del tesista\u001b[39m\u001b[39m'\u001b[39m, \u001b[39m'\u001b[39m\u001b[39mGrado\u001b[39m\u001b[39m'\u001b[39m, \u001b[39m'\u001b[39m\u001b[39mNombre del asesor\u001b[39m\u001b[39m'\u001b[39m, \u001b[39m'\u001b[39m\u001b[39mResumen\u001b[39m\u001b[39m'\u001b[39m,\u001b[39m'\u001b[39m\u001b[39mAño\u001b[39m\u001b[39m'\u001b[39m]\n\u001b[0;32m      3\u001b[0m                  )\n\u001b[0;32m      4\u001b[0m DF2\u001b[39m.\u001b[39mto_csv(\u001b[39m\"\u001b[39m\u001b[39mtesisUNALMfinal.csv\u001b[39m\u001b[39m\"\u001b[39m, index\u001b[39m=\u001b[39m\u001b[39mFalse\u001b[39;00m,encoding\u001b[39m=\u001b[39m\u001b[39m'\u001b[39m\u001b[39mutf-8-sig\u001b[39m\u001b[39m'\u001b[39m)\n",
      "\u001b[1;31mNameError\u001b[0m: name 'pd' is not defined"
     ]
    }
   ],
   "source": [
    "DF2 = pd.read_csv('tesisUNALM.csv',  skiprows=1,           \n",
    "                 names=['Institución','Título de la tesis', 'Nombre del tesista', 'Grado', 'Nombre del asesor', 'Resumen','Año']\n",
    "                 )\n",
    "DF2.to_csv(\"tesisUNALMfinal.csv\", index=False,encoding='utf-8-sig')"
   ]
  }
 ],
 "metadata": {
  "kernelspec": {
   "display_name": "Python 3",
   "language": "python",
   "name": "python3"
  },
  "language_info": {
   "codemirror_mode": {
    "name": "ipython",
    "version": 3
   },
   "file_extension": ".py",
   "mimetype": "text/x-python",
   "name": "python",
   "nbconvert_exporter": "python",
   "pygments_lexer": "ipython3",
   "version": "3.9.6"
  },
  "vscode": {
   "interpreter": {
    "hash": "aa2056bb4ca5633605a78966d1098f4e7323f18ac516816354bb04acd5b66807"
   }
  }
 },
 "nbformat": 4,
 "nbformat_minor": 5
}
