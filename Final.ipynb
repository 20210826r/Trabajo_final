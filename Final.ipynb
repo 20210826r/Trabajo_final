{
 "cells": [
  {
   "cell_type": "code",
   "execution_count": 28,
   "id": "0f014921",
   "metadata": {
    "scrolled": true
   },
   "outputs": [
    {
     "name": "stdout",
     "output_type": "stream",
     "text": [
      "['http://repositorio.lamolina.edu.pe/handle/20.500.12996/26/recent-submissions', 'http://repositorio.lamolina.edu.pe/handle/20.500.12996/26/recent-submissions?offset=20', 'http://repositorio.lamolina.edu.pe/handle/20.500.12996/26/recent-submissions?offset=40', 'http://repositorio.lamolina.edu.pe/handle/20.500.12996/26/recent-submissions?offset=60']\n"
     ]
    }
   ],
   "source": [
    "import urllib.request, urllib.error\n",
    "from bs4 import BeautifulSoup\n",
    "import re as re \n",
    "\n",
    "#siguiente pagina \n",
    "def next_page(url):\n",
    "    page = urllib.request.urlopen(url)\n",
    "    soup = BeautifulSoup(page)\n",
    "    \n",
    "    line = soup.find('a',{'class':'next-page-link'})\n",
    "    line = line.decode().strip()\n",
    "    offset = re.findall(r'\\?offset=.{2}',line)\n",
    "    url_diff = offset[0]\n",
    "    \n",
    "    url = re.sub('\\?offset.*','',url)\n",
    "    n_url = url + url_diff\n",
    "    return n_url\n",
    "\n",
    "#aaaaaaaaaaaaaaaaaaaaaaaaaaaaaaaaaaaaaaaaa\n",
    "URL = []\n",
    "url = 'http://repositorio.lamolina.edu.pe/handle/20.500.12996/26/recent-submissions'\n",
    "\n",
    "def all_pages(url,URL):\n",
    "    \n",
    "    page = urllib.request.urlopen(url)\n",
    "    soup = BeautifulSoup(page)\n",
    "    last = soup.find('li',{'class':'next pull-right disabled'})\n",
    "    URL.append(url)\n",
    "    if last == None: \n",
    "        url = next_page(url)\n",
    "        all_pages(url,URL)\n",
    "    else: \n",
    "        return URL \n",
    "    return URL \n",
    "\n",
    "all_pages(url,URL)\n",
    "print(URL)"
   ]
  },
  {
   "cell_type": "code",
   "execution_count": null,
   "id": "5b3b1220",
   "metadata": {},
   "outputs": [],
   "source": []
  }
 ],
 "metadata": {
  "kernelspec": {
   "display_name": "Python 3 (ipykernel)",
   "language": "python",
   "name": "python3"
  },
  "language_info": {
   "codemirror_mode": {
    "name": "ipython",
    "version": 3
   },
   "file_extension": ".py",
   "mimetype": "text/x-python",
   "name": "python",
   "nbconvert_exporter": "python",
   "pygments_lexer": "ipython3",
   "version": "3.9.13"
  }
 },
 "nbformat": 4,
 "nbformat_minor": 5
}
