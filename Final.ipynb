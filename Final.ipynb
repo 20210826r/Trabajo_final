{
 "cells": [
  {
   "cell_type": "code",
   "execution_count": 48,
   "id": "0f014921",
   "metadata": {
    "scrolled": true
   },
   "outputs": [
    {
     "name": "stdout",
     "output_type": "stream",
     "text": [
      "[['/handle/20.500.12996/5489'], ['/handle/20.500.12996/5284'], ['/handle/20.500.12996/5282'], ['/handle/20.500.12996/5218'], ['/handle/20.500.12996/5209'], ['/handle/20.500.12996/5205'], ['/handle/20.500.12996/5071'], ['/handle/20.500.12996/5068'], ['/handle/20.500.12996/5051'], ['/handle/20.500.12996/5050'], ['/handle/20.500.12996/4957'], ['/handle/20.500.12996/4954'], ['/handle/20.500.12996/4946'], ['/handle/20.500.12996/4945'], ['/handle/20.500.12996/4935'], ['/handle/20.500.12996/4934'], ['/handle/20.500.12996/4867'], ['/handle/20.500.12996/4860'], ['/handle/20.500.12996/4852'], ['/handle/20.500.12996/4851'], ['/handle/20.500.12996/4848'], ['/handle/20.500.12996/4847'], ['/handle/20.500.12996/4845'], ['/handle/20.500.12996/4841'], ['/handle/20.500.12996/4834'], ['/handle/20.500.12996/4832'], ['/handle/20.500.12996/4764'], ['/handle/20.500.12996/4760'], ['/handle/20.500.12996/4634'], ['/handle/20.500.12996/4633'], ['/handle/20.500.12996/4218'], ['/handle/20.500.12996/4121'], ['/handle/20.500.12996/4021'], ['/handle/20.500.12996/3928'], ['/handle/20.500.12996/3705'], ['/handle/20.500.12996/3385'], ['/handle/20.500.12996/3384'], ['/handle/20.500.12996/3345'], ['/handle/20.500.12996/3335'], ['/handle/20.500.12996/3329'], ['/handle/20.500.12996/3312'], ['/handle/20.500.12996/3307'], ['/handle/20.500.12996/3276'], ['/handle/20.500.12996/3275'], ['/handle/20.500.12996/3268'], ['/handle/20.500.12996/3257'], ['/handle/20.500.12996/3240'], ['/handle/20.500.12996/3015'], ['/handle/20.500.12996/2731'], ['/handle/20.500.12996/2559'], ['/handle/20.500.12996/2421'], ['/handle/20.500.12996/2327'], ['/handle/20.500.12996/2318'], ['/handle/20.500.12996/2304'], ['/handle/20.500.12996/2276'], ['/handle/20.500.12996/2280'], ['/handle/20.500.12996/2269'], ['/handle/20.500.12996/2277'], ['/handle/20.500.12996/2274'], ['/handle/20.500.12996/2043'], ['/handle/20.500.12996/1803'], ['/handle/20.500.12996/837']]\n",
      "[['Identificación de clientes en campañas para una entidad financiera usando el método Stacking'], ['Implementación de una solución de business intelligence para la toma de decisiones en el servicio de consulta externa de un hospital'], ['Identificación de clientes que realizaron fuga de equipos móviles en una empresa de telecomunicaciones utilizando el algoritmo Random Forest'], ['Estimación del monto de siniestros ocurridos y no reportados para el SOAT con el método Double Cchain Ladder'], ['Registro de los planes operativos y estratégicos usando el aplicativo CEPLAN V 1.0'], ['Diseño e implementación de un Datamart para el área de análisis de una instancia técnica del sector educativo'], ['Predicción del riesgo de incumplimiento en el pago de los créditos del portafolio de una entidad financiera utilizando regresión logística'], ['Propuesta de estrategia de monitoreo transaccional anti lavado de activos empleando el método de Ward y el teorema de Chebyshev'], ['Diseño e implementación de un sistema de información web en una empresa de medios de comunicación de Perú'], ['Aplicación del análisis Pathway para incrementar la predisposición de compra de productos de belleza'], ['Análisis y pronóstico de la recaudación del impuesto vehicular municipal mediante la metodología Box - Jenkins'], ['Modelo de factores asociado al desarrollo infantil temprano de niños peruano con indicadores  del Instituto Nacional de Estadística e Informática'], ['Identificación de perfiles de los Centros de Educación Técnico - Productiva Públicos usando indicadores de condiciones básicas de calidad mediante clúster bietápico'], ['Segmentación de usuarios que visitan el sitio web de una empresa utilizando la regresión logística con la técnica de sobremuestreo'], ['Diseño muestral para determinar la demanda nacional de hoja de coca destinada al uso lícito'], ['Predicción de la prima de los clientes de una compañía aseguradora usando el modelo lineal generalizado Tweedie'], ['Validación para la determinación de minerales: calcio, hierro, magnesio, manganeso y zinc, en galletas con el método AOAC 985.35'], ['Evaluación del impacto de la fortificación de la harina de trigo en el nivel de anemia utilizando la técnica PSM'], ['Modelo de ecuaciones estructurales en innovación de empresas de manufactura peruanas con información del Instituto Nacional de Estadística e Informática'], ['Imputación de datos faltantes en los ingresos por hogar en la Enaho utilizando el método del K-vecino más cercano'], ['Diseño y análisis de un sistema de información para el registro nacional de personas certificadas del SINEACE'], ['Estimación del capital económico por riesgo operacional financiero usando el método de distribución de pérdidas con convolución Poisson y Log-normal'], ['Segmentación de lectores digitales registrados de un sitio web informativo con el algoritmo de análisis Cluster k-means'], ['Clasificación de los adolescentes infractores del centro juvenil de diagnóstico y rehabilitación de lima utilizando partición alrededor de medoides (PAM)'], ['Identificación de la propensión a la adquisición de un subproducto de una tarjeta de crédito en una entidad bancaria'], ['Predicción de adquisición de un préstamo personal bancario a través del canal de televentas utilizando el algoritmo Random Forest'], ['Diseño muestral de una línea base para caracterizar a los productores de cacao en el Perú'], ['Identificación de las variables determinantes en el cese voluntario de un colaborador con la regresión de Cox'], ['Comportamiento del gasto público de una entidad pública usando el modelo Box - Jenkins, 2009 - 2017'], ['Caracterización del perfil del ingresante de una Universidad Pública aplicando algoritmos clustering K-Prototypes y K- Medoids'], ['Cambios en la producción agrícola y el rol de la investigación y extensión agrícola en el Perú: 1950-2011'], ['Variables que explican los rangos remunerativos del primer empleo de los egresados universitarios del Perú aplicando regresión logística ordinal'], ['Identificación de las reglas de asociación utilizando los algoritmos secuenciales Spade y GSP'], ['Estudio de las principales variables que determinan el consumo de una marca de bebida gaseosa usando técnicas discriminantes'], ['Clasificación de resultados en la prueba de admisión de la UNALM utilizando análisis discriminante lineal de Fisher y Máquina de Soporte Vectorial'], ['Descripción metodológica del modelo espacial autorregresivo en el error'], ['Descripción metodológica del anàlisis Clúster utilizando el algoritmo de Ward'], ['Descripción del procedimiento metodológico del análisis cluster no jerárquico con el algoritmo Clarans'], ['Descripción metodológica del análisis conjunto con perfiles completos'], ['Clasificación de fuga de clientes en una entidad financiera utilizando el algoritmo Smote para datos desbalanceados en una regresión logística'], ['Segmentación de clientes de un casino utilizando el algoritmo partición alrededor de medoides (PAM) con datos mixtos'], ['Detección de outliers espaciales utilizando el diagrama de dispersión de Moran y el variograma Nube'], ['Descripción metodológica de las series de tiempo con redes neuronales artificiales'], ['Descripción metodológica del modelo de ecuaciones estructurales con el método de estimación de mínimos cuadrados parciales'], ['Mixtura finita basada en la distribución Birnbaum-Saunders normal asimétrica'], ['Estrategias de mercado en un centro educativo privado en la localidad de Arequipa'], ['Descripción de la metodología de análisis de cluster con algoritmo Fuzzy C-means'], ['Análisis de datos en una auditoría de mercado para productos de consumo masivo en bodegas de Lima Metropolitana'], ['Análisis y diseño de un sistema distribuido de pago middleware orientado a la mensajería entre una entidad bancaria y una empresa farmacéutica'], ['Análisis del coste de los siniestros en una compañía de seguros utilizando las distribuciones asimétricas Skew-Normal y Skew-T'], ['Estimación de la incertidumbre asociado al método de ensayo para el análisis de ácido carmínico en cochinilla'], ['Segmentación de usuarios de productos tecnológicos a partir de valores y actitudes'], ['Clasificación de familias en Cajamarca según su situación económica mediante el análisis de conglomerados'], ['Determinación de perfiles de turistas nacionales de los niveles socioeconómicos medio y alto mediante el análisis conglomerado bietápico'], ['Modelación de la volatilidad del índice general de la Bolsa de Valores de Lima, periodo 2009-2011'], ['Identificación de perfiles de clientes crediticios aplicando técnicas de segmentación y regresión logística multinomial'], ['Predicción del rendimiento en el exámen de admisión a la UNALM [Universidad Nacional Agraria La Molina] utilizando las técnicas de análisis discriminante lineal y análisis discriminante con algoritmos genéticos'], ['Identificación de un modelo explicativo de retención de clientes con riesgo de fuga para una entidad bancaria aplicando regresión logística y árboles de clasificación CART'], ['Perfil de los clientes que aceptan una tarjeta de crédito de un banco via Call Center utilizando el algoritmo Chaid exhaustivo'], ['Uso del criterio AHP para la toma de decisiones'], ['Muestreo de unidades agrícolas a través de puntos fijados aleatoriamente'], ['Modelo predictivo de quiebre de stock en un supermercado comparando dos métodos de selección de variables']]\n"
     ]
    }
   ],
   "source": [
    "import urllib.request, urllib.error\n",
    "from bs4 import BeautifulSoup\n",
    "import re as re \n",
    "\n",
    "#siguiente pagina \n",
    "def next_page(url):\n",
    "    page = urllib.request.urlopen(url)\n",
    "    soup = BeautifulSoup(page)\n",
    "    \n",
    "    line = soup.find('a',{'class':'next-page-link'})\n",
    "    line = line.decode().strip()\n",
    "    offset = re.findall(r'\\?offset=.{2}',line)\n",
    "    url_diff = offset[0]\n",
    "    \n",
    "    url = re.sub('\\?offset.*','',url)\n",
    "    n_url = url + url_diff\n",
    "    return n_url\n",
    "\n",
    "#aaaaaaaaaaaaaaaaaaaaaaaaaaaaaaaaaaaaaaaaa\n",
    "URL = []\n",
    "url = 'http://repositorio.lamolina.edu.pe/handle/20.500.12996/26/recent-submissions'\n",
    "\n",
    "def all_pages(url,URL):\n",
    "    \n",
    "    page = urllib.request.urlopen(url)\n",
    "    soup = BeautifulSoup(page)\n",
    "    last = soup.find('li',{'class':'next pull-right disabled'})\n",
    "    URL.append(url)\n",
    "    if last == None: \n",
    "        url = next_page(url)\n",
    "        all_pages(url,URL)\n",
    "    else: \n",
    "        return URL \n",
    "    return URL \n",
    "\n",
    "all_pages(url,URL)\n",
    "\n",
    "tittles =[]\n",
    "handles = [] \n",
    "\n",
    "#<a href=\"/handle/20.500.12996/5489\">Identificaci&oacute;n de clientes en campa&ntilde;as para una entidad financiera usando el m&eacute;todo Stacking</a><span class=\"Z3988\" title=\"ctx_ver=Z39.88-2004&amp;rft_val_fmt=info%3Aofi%2Ffmt%3Akev%3Amtx%3Adc&amp;rft_id=https%3A%2F%2Fhdl.handle.net%2F20.500.12996%2F5489&amp;rfr_id=info%3Asid%2Fdspace.org%3Arepository&amp;rft.degree=Estad%C3%ADstica+e+Inform%C3%A1tica&amp;rft.degree=Universidad+Nacional+Agraria+La+Molina.+Facultad+de+Econom%C3%ADa+y+Planificaci%C3%B3n&amp;rft.degree=Ingeniero+Estad%C3%ADstico+Inform%C3%A1tico&amp;rft.author=41943627&amp;rft.advisor=https%3A%2F%2Forcid.org%2F0000-0002-5776-2749&amp;rft.advisor=08427218\">\n",
    "\n",
    "for url in URL: \n",
    "    page = urllib.request.urlopen(url)\n",
    "    soup = BeautifulSoup(page)\n",
    "    for lines in soup.find_all('h4'):\n",
    "        lines = lines.decode().strip()\n",
    "        link = re.findall(r'/handle/.+?(?=\\\")',lines)\n",
    "        handles.append(link)\n",
    "        tittle = re.findall(r'(?<=>)\\w.+?(?=<)',lines)\n",
    "        tittles.append(tittle)\n",
    "        \n",
    "print(handles)\n",
    "print(tittles)"
   ]
  },
  {
   "cell_type": "code",
   "execution_count": null,
   "id": "5b3b1220",
   "metadata": {},
   "outputs": [],
   "source": []
  }
 ],
 "metadata": {
  "kernelspec": {
   "display_name": "Python 3 (ipykernel)",
   "language": "python",
   "name": "python3"
  },
  "language_info": {
   "codemirror_mode": {
    "name": "ipython",
    "version": 3
   },
   "file_extension": ".py",
   "mimetype": "text/x-python",
   "name": "python",
   "nbconvert_exporter": "python",
   "pygments_lexer": "ipython3",
   "version": "3.9.13"
  }
 },
 "nbformat": 4,
 "nbformat_minor": 5
}
