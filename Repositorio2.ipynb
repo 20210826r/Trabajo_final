url = 'https://tesis.pucp.edu.pe/repositorio/handle/20.500.12404/757/recent-submissions'

import urllib.request, urllib.error
from bs4 import BeautifulSoup
import re as re 
